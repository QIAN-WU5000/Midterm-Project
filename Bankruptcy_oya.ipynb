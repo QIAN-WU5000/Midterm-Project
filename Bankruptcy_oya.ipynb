{
 "cells": [
  {
   "cell_type": "markdown",
   "metadata": {},
   "source": [
    "# Problem description\n",
    "\n",
    "You are to predict whether a company will go bankrupt in the following year, based on financial attributes of the company.\n",
    "\n",
    "Perhaps you are contemplating lending money to a company, and need to know whether the company\n",
    "is in near-term danger of not being able to repay.\n"
   ]
  },
  {
   "cell_type": "markdown",
   "metadata": {},
   "source": [
    "## Goal"
   ]
  },
  {
   "cell_type": "markdown",
   "metadata": {
    "slideshow": {
     "slide_type": "fragment"
    }
   },
   "source": [
    "## Learning objectives\n",
    "\n",
    "- Demonstrate mastery on solving a classification problem and presenting\n",
    "the entire Recipe for Machine Learning process in a notebook.\n",
    "- We will make suggestions for ways to approach the problem\n",
    "    - But there will be little explicit direction for this task.\n",
    "- It is meant to be analogous to a pre-interview task that a potential employer might assign\n",
    "to verify your skill"
   ]
  },
  {
   "cell_type": "markdown",
   "metadata": {},
   "source": [
    "# Import modules"
   ]
  },
  {
   "cell_type": "code",
   "execution_count": 8,
   "metadata": {},
   "outputs": [],
   "source": [
    "## Standard imports\n",
    "import numpy as np\n",
    "import pandas as pd\n",
    "import matplotlib.pyplot as plt\n",
    "\n",
    "import sklearn\n",
    "\n",
    "import os\n",
    "import math\n",
    "\n",
    "%matplotlib inline\n"
   ]
  },
  {
   "cell_type": "markdown",
   "metadata": {},
   "source": [
    "# API for students"
   ]
  },
  {
   "cell_type": "code",
   "execution_count": 9,
   "metadata": {},
   "outputs": [
    {
     "name": "stdout",
     "output_type": "stream",
     "text": [
      "The autoreload extension is already loaded. To reload it, use:\n",
      "  %reload_ext autoreload\n"
     ]
    }
   ],
   "source": [
    "## Load the bankruptcy_helper module\n",
    "\n",
    "from IPython.core.interactiveshell import InteractiveShell\n",
    "InteractiveShell.ast_node_interactivity = \"all\"\n",
    "\n",
    "# Reload all modules imported with %aimport\n",
    "%load_ext autoreload\n",
    "%autoreload 1\n",
    "\n",
    "# Import bankruptcy_helper module\n",
    "import bankruptcy_helper\n",
    "%aimport bankruptcy_helper\n",
    "\n",
    "helper = bankruptcy_helper.Helper()"
   ]
  },
  {
   "cell_type": "markdown",
   "metadata": {},
   "source": [
    "# Get the data\n",
    "\n",
    "The first step in our Recipe is Get the Data.\n",
    "\n",
    "- Each example is a row of data corresponding to a single company\n",
    "- There are 64 attributes, described in the section below\n",
    "- The column `Bankrupt` is 1 if the company subsequently went bankrupt; 0 if it did not go bankrupt\n",
    "- The column `Id` is a Company Identifier"
   ]
  },
  {
   "cell_type": "code",
   "execution_count": 10,
   "metadata": {},
   "outputs": [
    {
     "name": "stdout",
     "output_type": "stream",
     "text": [
      "Date shape:  (4818, 66)\n"
     ]
    }
   ],
   "source": [
    "# Data directory\n",
    "DATA_DIR = \"./Data\"\n",
    "\n",
    "if not os.path.isdir(DATA_DIR):\n",
    "    DATA_DIR = \"../resource/asnlib/publicdata/bankruptcy/data\"\n",
    "\n",
    "data_file = \"5th_yr.csv\"\n",
    "data = pd.read_csv( os.path.join(DATA_DIR, \"train\", data_file) )\n",
    "\n",
    "target_attr = \"Bankrupt\"\n",
    "\n",
    "n_samples, n_attrs = data.shape\n",
    "print(\"Date shape: \", data.shape)"
   ]
  },
  {
   "cell_type": "markdown",
   "metadata": {},
   "source": [
    "## Have a look at the data\n",
    "\n",
    "We will not go through all steps in the Recipe, nor in depth.\n",
    "\n",
    "But here's a peek"
   ]
  },
  {
   "cell_type": "code",
   "execution_count": 11,
   "metadata": {},
   "outputs": [
    {
     "data": {
      "text/html": [
       "<div>\n",
       "<style scoped>\n",
       "    .dataframe tbody tr th:only-of-type {\n",
       "        vertical-align: middle;\n",
       "    }\n",
       "\n",
       "    .dataframe tbody tr th {\n",
       "        vertical-align: top;\n",
       "    }\n",
       "\n",
       "    .dataframe thead th {\n",
       "        text-align: right;\n",
       "    }\n",
       "</style>\n",
       "<table border=\"1\" class=\"dataframe\">\n",
       "  <thead>\n",
       "    <tr style=\"text-align: right;\">\n",
       "      <th></th>\n",
       "      <th>X1</th>\n",
       "      <th>X2</th>\n",
       "      <th>X3</th>\n",
       "      <th>X4</th>\n",
       "      <th>X5</th>\n",
       "      <th>X6</th>\n",
       "      <th>X7</th>\n",
       "      <th>X8</th>\n",
       "      <th>X9</th>\n",
       "      <th>X10</th>\n",
       "      <th>...</th>\n",
       "      <th>X57</th>\n",
       "      <th>X58</th>\n",
       "      <th>X59</th>\n",
       "      <th>X60</th>\n",
       "      <th>X61</th>\n",
       "      <th>X62</th>\n",
       "      <th>X63</th>\n",
       "      <th>X64</th>\n",
       "      <th>Bankrupt</th>\n",
       "      <th>Id</th>\n",
       "    </tr>\n",
       "  </thead>\n",
       "  <tbody>\n",
       "    <tr>\n",
       "      <th>0</th>\n",
       "      <td>0.025417</td>\n",
       "      <td>0.41769</td>\n",
       "      <td>0.0568</td>\n",
       "      <td>1.1605</td>\n",
       "      <td>-126.39</td>\n",
       "      <td>0.41355</td>\n",
       "      <td>0.025417</td>\n",
       "      <td>1.2395</td>\n",
       "      <td>1.16500</td>\n",
       "      <td>0.51773</td>\n",
       "      <td>...</td>\n",
       "      <td>0.049094</td>\n",
       "      <td>0.85835</td>\n",
       "      <td>0.12322</td>\n",
       "      <td>5.6167</td>\n",
       "      <td>7.4042</td>\n",
       "      <td>164.310</td>\n",
       "      <td>2.2214</td>\n",
       "      <td>1.334</td>\n",
       "      <td>0</td>\n",
       "      <td>4510</td>\n",
       "    </tr>\n",
       "    <tr>\n",
       "      <th>1</th>\n",
       "      <td>-0.023834</td>\n",
       "      <td>0.2101</td>\n",
       "      <td>0.50839</td>\n",
       "      <td>4.2374</td>\n",
       "      <td>22.034</td>\n",
       "      <td>0.058412</td>\n",
       "      <td>-0.027621</td>\n",
       "      <td>3.6579</td>\n",
       "      <td>0.98183</td>\n",
       "      <td>0.76855</td>\n",
       "      <td>...</td>\n",
       "      <td>-0.031011</td>\n",
       "      <td>1.01850</td>\n",
       "      <td>0.069047</td>\n",
       "      <td>5.7996</td>\n",
       "      <td>7.7529</td>\n",
       "      <td>26.446</td>\n",
       "      <td>13.802</td>\n",
       "      <td>6.4782</td>\n",
       "      <td>0</td>\n",
       "      <td>3537</td>\n",
       "    </tr>\n",
       "    <tr>\n",
       "      <th>2</th>\n",
       "      <td>0.030515</td>\n",
       "      <td>0.44606</td>\n",
       "      <td>0.19569</td>\n",
       "      <td>1.565</td>\n",
       "      <td>35.766</td>\n",
       "      <td>0.28196</td>\n",
       "      <td>0.039264</td>\n",
       "      <td>0.88456</td>\n",
       "      <td>1.05260</td>\n",
       "      <td>0.39457</td>\n",
       "      <td>...</td>\n",
       "      <td>0.077337</td>\n",
       "      <td>0.95006</td>\n",
       "      <td>0.25266</td>\n",
       "      <td>15.049</td>\n",
       "      <td>2.8179</td>\n",
       "      <td>104.730</td>\n",
       "      <td>3.4852</td>\n",
       "      <td>2.6361</td>\n",
       "      <td>0</td>\n",
       "      <td>3920</td>\n",
       "    </tr>\n",
       "    <tr>\n",
       "      <th>3</th>\n",
       "      <td>0.052318</td>\n",
       "      <td>0.056366</td>\n",
       "      <td>0.54562</td>\n",
       "      <td>10.68</td>\n",
       "      <td>438.2</td>\n",
       "      <td>0.13649</td>\n",
       "      <td>0.058164</td>\n",
       "      <td>10.853</td>\n",
       "      <td>1.02790</td>\n",
       "      <td>0.61173</td>\n",
       "      <td>...</td>\n",
       "      <td>0.085524</td>\n",
       "      <td>0.97282</td>\n",
       "      <td>0</td>\n",
       "      <td>6.0157</td>\n",
       "      <td>7.4626</td>\n",
       "      <td>48.756</td>\n",
       "      <td>7.4863</td>\n",
       "      <td>1.0602</td>\n",
       "      <td>0</td>\n",
       "      <td>1806</td>\n",
       "    </tr>\n",
       "    <tr>\n",
       "      <th>4</th>\n",
       "      <td>0.000992</td>\n",
       "      <td>0.49712</td>\n",
       "      <td>0.12316</td>\n",
       "      <td>1.3036</td>\n",
       "      <td>-71.398</td>\n",
       "      <td>0</td>\n",
       "      <td>0.001007</td>\n",
       "      <td>1.0116</td>\n",
       "      <td>1.29210</td>\n",
       "      <td>0.50288</td>\n",
       "      <td>...</td>\n",
       "      <td>0.001974</td>\n",
       "      <td>0.99925</td>\n",
       "      <td>0.019736</td>\n",
       "      <td>3.4819</td>\n",
       "      <td>8.582</td>\n",
       "      <td>114.580</td>\n",
       "      <td>3.1854</td>\n",
       "      <td>2.742</td>\n",
       "      <td>0</td>\n",
       "      <td>1529</td>\n",
       "    </tr>\n",
       "  </tbody>\n",
       "</table>\n",
       "<p>5 rows × 66 columns</p>\n",
       "</div>"
      ],
      "text/plain": [
       "          X1        X2       X3      X4       X5        X6         X7  \\\n",
       "0   0.025417   0.41769   0.0568  1.1605  -126.39   0.41355   0.025417   \n",
       "1  -0.023834    0.2101  0.50839  4.2374   22.034  0.058412  -0.027621   \n",
       "2   0.030515   0.44606  0.19569   1.565   35.766   0.28196   0.039264   \n",
       "3   0.052318  0.056366  0.54562   10.68    438.2   0.13649   0.058164   \n",
       "4   0.000992   0.49712  0.12316  1.3036  -71.398         0   0.001007   \n",
       "\n",
       "        X8       X9      X10  ...        X57      X58       X59     X60  \\\n",
       "0   1.2395  1.16500  0.51773  ...   0.049094  0.85835   0.12322  5.6167   \n",
       "1   3.6579  0.98183  0.76855  ...  -0.031011  1.01850  0.069047  5.7996   \n",
       "2  0.88456  1.05260  0.39457  ...   0.077337  0.95006   0.25266  15.049   \n",
       "3   10.853  1.02790  0.61173  ...   0.085524  0.97282         0  6.0157   \n",
       "4   1.0116  1.29210  0.50288  ...   0.001974  0.99925  0.019736  3.4819   \n",
       "\n",
       "      X61      X62     X63     X64  Bankrupt    Id  \n",
       "0  7.4042  164.310  2.2214   1.334         0  4510  \n",
       "1  7.7529   26.446  13.802  6.4782         0  3537  \n",
       "2  2.8179  104.730  3.4852  2.6361         0  3920  \n",
       "3  7.4626   48.756  7.4863  1.0602         0  1806  \n",
       "4   8.582  114.580  3.1854   2.742         0  1529  \n",
       "\n",
       "[5 rows x 66 columns]"
      ]
     },
     "execution_count": 11,
     "metadata": {},
     "output_type": "execute_result"
    }
   ],
   "source": [
    "data.head()"
   ]
  },
  {
   "cell_type": "markdown",
   "metadata": {},
   "source": [
    "Pretty *unhelpful* !\n",
    "\n",
    "What are these mysteriously named features ?\n",
    "\n",
    "## Description of attributes"
   ]
  },
  {
   "cell_type": "raw",
   "metadata": {},
   "source": [
    "Attribute Information:\n",
    "\n",
    "Id Company Identifier \n",
    "X1 net profit / total assets\n",
    "X2 total liabilities / total assets\n",
    "X3 working capital / total assets\n",
    "X4 current assets / short-term liabilities\n",
    "X5 [(cash + short-term securities + receivables - short-term liabilities) / (operating expenses - depreciation)] * 365\n",
    "X6 retained earnings / total assets\n",
    "X7 EBIT / total assets\n",
    "X8 book value of equity / total liabilities\n",
    "X9 sales / total assets\n",
    "X10 equity / total assets\n",
    "X11 (gross profit + extraordinary items + financial expenses) / total assets\n",
    "X12 gross profit / short-term liabilities\n",
    "X13 (gross profit + depreciation) / sales\n",
    "X14 (gross profit + interest) / total assets\n",
    "X15 (total liabilities * 365) / (gross profit + depreciation)\n",
    "X16 (gross profit + depreciation) / total liabilities\n",
    "X17 total assets / total liabilities\n",
    "X18 gross profit / total assets\n",
    "X19 gross profit / sales\n",
    "X20 (inventory * 365) / sales\n",
    "X21 sales (n) / sales (n-1)\n",
    "X22 profit on operating activities / total assets\n",
    "X23 net profit / sales\n",
    "X24 gross profit (in 3 years) / total assets\n",
    "X25 (equity - share capital) / total assets\n",
    "X26 (net profit + depreciation) / total liabilities\n",
    "X27 profit on operating activities / financial expenses\n",
    "X28 working capital / fixed assets\n",
    "X29 logarithm of total assets\n",
    "X30 (total liabilities - cash) / sales\n",
    "X31 (gross profit + interest) / sales\n",
    "X32 (current liabilities * 365) / cost of products sold\n",
    "X33 operating expenses / short-term liabilities\n",
    "X34 operating expenses / total liabilities\n",
    "X35 profit on sales / total assets\n",
    "X36 total sales / total assets\n",
    "X37 (current assets - inventories) / long-term liabilities\n",
    "X38 constant capital / total assets\n",
    "X39 profit on sales / sales\n",
    "X40 (current assets - inventory - receivables) / short-term liabilities\n",
    "X41 total liabilities / ((profit on operating activities + depreciation) * (12/365))\n",
    "X42 profit on operating activities / sales\n",
    "X43 rotation receivables + inventory turnover in days\n",
    "X44 (receivables * 365) / sales\n",
    "X45 net profit / inventory\n",
    "X46 (current assets - inventory) / short-term liabilities\n",
    "X47 (inventory * 365) / cost of products sold\n",
    "X48 EBITDA (profit on operating activities - depreciation) / total assets\n",
    "X49 EBITDA (profit on operating activities - depreciation) / sales\n",
    "X50 current assets / total liabilities\n",
    "X51 short-term liabilities / total assets\n",
    "X52 (short-term liabilities * 365) / cost of products sold)\n",
    "X53 equity / fixed assets\n",
    "X54 constant capital / fixed assets\n",
    "X55 working capital\n",
    "X56 (sales - cost of products sold) / sales\n",
    "X57 (current assets - inventory - short-term liabilities) / (sales - gross profit - depreciation)\n",
    "X58 total costs /total sales\n",
    "X59 long-term liabilities / equity\n",
    "X60 sales / inventory\n",
    "X61 sales / receivables\n",
    "X62 (short-term liabilities *365) / sales\n",
    "X63 sales / short-term liabilities\n",
    "X64 sales / fixed assets\n"
   ]
  },
  {
   "cell_type": "markdown",
   "metadata": {},
   "source": [
    "This may still be somewhat unhelpful for those of you not used to reading Financial Statements.\n",
    "\n",
    "But that's partially the point of the exercise\n",
    "- You can *still* perform Machine Learning *even if* you are not an expert in the problem domain\n",
    "    - That's what makes this a good interview exercise: you can demonstrate your thought process even if you don't know the exact meaning of the terms\n",
    "- Of course: becoming an expert in the domain *will improve* your ability to create better models\n",
    "    - Feature engineering is easier if you understand the features, their inter-relationships, and the relationship to the target"
   ]
  },
  {
   "cell_type": "markdown",
   "metadata": {},
   "source": [
    "Let's get a feel for the data\n",
    "- What is the type of each attribute ?\n"
   ]
  },
  {
   "cell_type": "code",
   "execution_count": 12,
   "metadata": {},
   "outputs": [
    {
     "name": "stdout",
     "output_type": "stream",
     "text": [
      "<class 'pandas.core.frame.DataFrame'>\n",
      "RangeIndex: 4818 entries, 0 to 4817\n",
      "Data columns (total 66 columns):\n",
      " #   Column    Non-Null Count  Dtype  \n",
      "---  ------    --------------  -----  \n",
      " 0   X1        4818 non-null   object \n",
      " 1   X2        4818 non-null   object \n",
      " 2   X3        4818 non-null   object \n",
      " 3   X4        4818 non-null   object \n",
      " 4   X5        4818 non-null   object \n",
      " 5   X6        4818 non-null   object \n",
      " 6   X7        4818 non-null   object \n",
      " 7   X8        4818 non-null   object \n",
      " 8   X9        4818 non-null   float64\n",
      " 9   X10       4818 non-null   object \n",
      " 10  X11       4818 non-null   object \n",
      " 11  X12       4818 non-null   object \n",
      " 12  X13       4818 non-null   float64\n",
      " 13  X14       4818 non-null   object \n",
      " 14  X15       4818 non-null   object \n",
      " 15  X16       4818 non-null   object \n",
      " 16  X17       4818 non-null   object \n",
      " 17  X18       4818 non-null   object \n",
      " 18  X19       4818 non-null   float64\n",
      " 19  X20       4818 non-null   float64\n",
      " 20  X21       4818 non-null   object \n",
      " 21  X22       4818 non-null   object \n",
      " 22  X23       4818 non-null   float64\n",
      " 23  X24       4818 non-null   object \n",
      " 24  X25       4818 non-null   object \n",
      " 25  X26       4818 non-null   object \n",
      " 26  X27       4818 non-null   object \n",
      " 27  X28       4818 non-null   object \n",
      " 28  X29       4818 non-null   object \n",
      " 29  X30       4818 non-null   float64\n",
      " 30  X31       4818 non-null   float64\n",
      " 31  X32       4818 non-null   object \n",
      " 32  X33       4818 non-null   object \n",
      " 33  X34       4818 non-null   object \n",
      " 34  X35       4818 non-null   object \n",
      " 35  X36       4818 non-null   object \n",
      " 36  X37       4818 non-null   object \n",
      " 37  X38       4818 non-null   object \n",
      " 38  X39       4818 non-null   float64\n",
      " 39  X40       4818 non-null   object \n",
      " 40  X41       4818 non-null   object \n",
      " 41  X42       4818 non-null   float64\n",
      " 42  X43       4818 non-null   float64\n",
      " 43  X44       4818 non-null   float64\n",
      " 44  X45       4818 non-null   object \n",
      " 45  X46       4818 non-null   object \n",
      " 46  X47       4818 non-null   object \n",
      " 47  X48       4818 non-null   object \n",
      " 48  X49       4818 non-null   float64\n",
      " 49  X50       4818 non-null   object \n",
      " 50  X51       4818 non-null   object \n",
      " 51  X52       4818 non-null   object \n",
      " 52  X53       4818 non-null   object \n",
      " 53  X54       4818 non-null   object \n",
      " 54  X55       4818 non-null   float64\n",
      " 55  X56       4818 non-null   float64\n",
      " 56  X57       4818 non-null   object \n",
      " 57  X58       4818 non-null   float64\n",
      " 58  X59       4818 non-null   object \n",
      " 59  X60       4818 non-null   object \n",
      " 60  X61       4818 non-null   object \n",
      " 61  X62       4818 non-null   float64\n",
      " 62  X63       4818 non-null   object \n",
      " 63  X64       4818 non-null   object \n",
      " 64  Bankrupt  4818 non-null   int64  \n",
      " 65  Id        4818 non-null   int64  \n",
      "dtypes: float64(16), int64(2), object(48)\n",
      "memory usage: 2.4+ MB\n"
     ]
    }
   ],
   "source": [
    "data.info()"
   ]
  },
  {
   "cell_type": "markdown",
   "metadata": {},
   "source": [
    "You may be puzzled:\n",
    "- Most attributes are `object` and *not* numeric (`float64`)\n",
    "- But looking at the data via `data.head()` certainly gives the impression that all attributes are numeric\n",
    "\n",
    "Welcome to the world of messy data !  The dataset has represented numbers as strings.\n",
    "- These little unexpected challenges are common in the real-word\n",
    "- Data is rarely perfect and clean"
   ]
  },
  {
   "cell_type": "markdown",
   "metadata": {},
   "source": [
    "So you might want to first convert all attributes to numeric\n",
    "\n",
    "**Hint**\n",
    "- Look up the Pandas method `to_numeric`\n",
    "    - We suggest you use the option `errors='coerce'`\n",
    "    "
   ]
  },
  {
   "cell_type": "code",
   "execution_count": 13,
   "metadata": {},
   "outputs": [
    {
     "name": "stdout",
     "output_type": "stream",
     "text": [
      "<class 'pandas.core.frame.DataFrame'>\n",
      "RangeIndex: 4818 entries, 0 to 4817\n",
      "Data columns (total 66 columns):\n",
      " #   Column    Non-Null Count  Dtype  \n",
      "---  ------    --------------  -----  \n",
      " 0   X1        4816 non-null   float64\n",
      " 1   X2        4816 non-null   float64\n",
      " 2   X3        4816 non-null   float64\n",
      " 3   X4        4803 non-null   float64\n",
      " 4   X5        4808 non-null   float64\n",
      " 5   X6        4816 non-null   float64\n",
      " 6   X7        4816 non-null   float64\n",
      " 7   X8        4804 non-null   float64\n",
      " 8   X9        4818 non-null   float64\n",
      " 9   X10       4816 non-null   float64\n",
      " 10  X11       4816 non-null   float64\n",
      " 11  X12       4803 non-null   float64\n",
      " 12  X13       4818 non-null   float64\n",
      " 13  X14       4816 non-null   float64\n",
      " 14  X15       4812 non-null   float64\n",
      " 15  X16       4804 non-null   float64\n",
      " 16  X17       4804 non-null   float64\n",
      " 17  X18       4816 non-null   float64\n",
      " 18  X19       4818 non-null   float64\n",
      " 19  X20       4818 non-null   float64\n",
      " 20  X21       4744 non-null   float64\n",
      " 21  X22       4816 non-null   float64\n",
      " 22  X23       4818 non-null   float64\n",
      " 23  X24       4702 non-null   float64\n",
      " 24  X25       4816 non-null   float64\n",
      " 25  X26       4804 non-null   float64\n",
      " 26  X27       4513 non-null   float64\n",
      " 27  X28       4735 non-null   float64\n",
      " 28  X29       4816 non-null   float64\n",
      " 29  X30       4818 non-null   float64\n",
      " 30  X31       4818 non-null   float64\n",
      " 31  X32       4776 non-null   float64\n",
      " 32  X33       4803 non-null   float64\n",
      " 33  X34       4804 non-null   float64\n",
      " 34  X35       4816 non-null   float64\n",
      " 35  X36       4816 non-null   float64\n",
      " 36  X37       2750 non-null   float64\n",
      " 37  X38       4816 non-null   float64\n",
      " 38  X39       4818 non-null   float64\n",
      " 39  X40       4803 non-null   float64\n",
      " 40  X41       4756 non-null   float64\n",
      " 41  X42       4818 non-null   float64\n",
      " 42  X43       4818 non-null   float64\n",
      " 43  X44       4818 non-null   float64\n",
      " 44  X45       4598 non-null   float64\n",
      " 45  X46       4803 non-null   float64\n",
      " 46  X47       4787 non-null   float64\n",
      " 47  X48       4816 non-null   float64\n",
      " 48  X49       4818 non-null   float64\n",
      " 49  X50       4804 non-null   float64\n",
      " 50  X51       4816 non-null   float64\n",
      " 51  X52       4786 non-null   float64\n",
      " 52  X53       4735 non-null   float64\n",
      " 53  X54       4735 non-null   float64\n",
      " 54  X55       4818 non-null   float64\n",
      " 55  X56       4818 non-null   float64\n",
      " 56  X57       4816 non-null   float64\n",
      " 57  X58       4818 non-null   float64\n",
      " 58  X59       4816 non-null   float64\n",
      " 59  X60       4598 non-null   float64\n",
      " 60  X61       4806 non-null   float64\n",
      " 61  X62       4818 non-null   float64\n",
      " 62  X63       4803 non-null   float64\n",
      " 63  X64       4735 non-null   float64\n",
      " 64  Bankrupt  4818 non-null   int64  \n",
      " 65  Id        4818 non-null   int64  \n",
      "dtypes: float64(64), int64(2)\n",
      "memory usage: 2.4 MB\n"
     ]
    }
   ],
   "source": [
    "data_num = data.apply(pd.to_numeric, errors = 'coerce')\n",
    "data_num.info()"
   ]
  },
  {
   "cell_type": "markdown",
   "metadata": {},
   "source": [
    "# Evaluating your project"
   ]
  },
  {
   "cell_type": "markdown",
   "metadata": {},
   "source": [
    "We will evaluate your submission on a test dataset that we provide\n",
    "- It has no labels, so **you** can't use it to evaluate your model, but **we** have the labels\n",
    "- We will call this evaluation dataset the \"holdout\" data\n",
    "\n",
    "Let's get it"
   ]
  },
  {
   "cell_type": "code",
   "execution_count": 14,
   "metadata": {},
   "outputs": [
    {
     "name": "stdout",
     "output_type": "stream",
     "text": [
      "Data shape:  (1092, 65)\n"
     ]
    }
   ],
   "source": [
    "holdout_data = pd.read_csv( os.path.join(DATA_DIR, \"holdout\", '5th_yr.csv') )\n",
    "\n",
    "print(\"Data shape: \", holdout_data.shape)\n"
   ]
  },
  {
   "cell_type": "markdown",
   "metadata": {},
   "source": [
    "We will evaluate your model on the holdout examples using metrics\n",
    "- Accuracy\n",
    "- Recall\n",
    "- Precision\n",
    "\n",
    "From our lecture: we may have to make a trade-off between Recall and Precision.\n",
    "\n",
    "Our evaluation of your submission will be partially based on how you made (and described) the trade-off.\n",
    "\n",
    "You may assume that it is 5 times worse to *fail to identify a company that will go bankrupt*\n",
    "than it is to fail to identify a company that won't go bankrupt."
   ]
  },
  {
   "cell_type": "markdown",
   "metadata": {},
   "source": [
    "# Your model\n",
    "\n",
    "Time for you to continue the Recipe for Machine Learning on your own.\n",
    "\n"
   ]
  },
  {
   "cell_type": "code",
   "execution_count": 15,
   "metadata": {},
   "outputs": [
    {
     "name": "stdout",
     "output_type": "stream",
     "text": [
      "X_train shape:  (4336, 64)\n",
      "X_test shape:  (482, 64)\n",
      "y_train shape:  (4336,)\n",
      "y_test shape:  (482,)\n"
     ]
    }
   ],
   "source": [
    "# CREATE TEST SET\n",
    "\n",
    "from sklearn.model_selection import train_test_split\n",
    "\n",
    "y = data_num['Bankrupt']\n",
    "X = data_num.drop(['Bankrupt', 'Id'], axis = 1)\n",
    "\n",
    "X_train, X_test, y_train, y_test = train_test_split(X, y, test_size = 0.1, random_state = 42)\n",
    "\n",
    "print(\"X_train shape: \", X_train.shape)\n",
    "print(\"X_test shape: \", X_test.shape)\n",
    "print(\"y_train shape: \", y_train.shape)\n",
    "print(\"y_test shape: \", y_test.shape)"
   ]
  },
  {
   "cell_type": "code",
   "execution_count": null,
   "metadata": {},
   "outputs": [],
   "source": []
  },
  {
   "cell_type": "code",
   "execution_count": 16,
   "metadata": {},
   "outputs": [
    {
     "name": "stdout",
     "output_type": "stream",
     "text": [
      "0    4061\n",
      "1     275\n",
      "Name: Bankrupt, dtype: int64\n"
     ]
    },
    {
     "data": {
      "text/plain": [
       "<matplotlib.axes._subplots.AxesSubplot at 0x7f8d5cda5150>"
      ]
     },
     "execution_count": 16,
     "metadata": {},
     "output_type": "execute_result"
    },
    {
     "data": {
      "image/png": "[encoded data removed]",
      "text/plain": [
       "<Figure size 432x288 with 1 Axes>"
      ]
     },
     "metadata": {
      "needs_background": "light"
     },
     "output_type": "display_data"
    }
   ],
   "source": [
    "# EXPLORATORY DATA ANALYSIS\n",
    "\n",
    "# Visualization\n",
    "Bankrupt_stat = y_train.value_counts()\n",
    "print(Bankrupt_stat)\n",
    "\n",
    "Bankrupt_stat.plot(kind = 'bar', title = 'Bankrupt Statistics')"
   ]
  },
  {
   "cell_type": "code",
   "execution_count": null,
   "metadata": {},
   "outputs": [],
   "source": []
  },
  {
   "cell_type": "code",
   "execution_count": 17,
   "metadata": {},
   "outputs": [
    {
     "data": {
      "text/plain": [
       "<matplotlib.axes._subplots.AxesSubplot at 0x7f8d5a0e3fd0>"
      ]
     },
     "execution_count": 17,
     "metadata": {},
     "output_type": "execute_result"
    },
    {
     "name": "stdout",
     "output_type": "stream",
     "text": [
      "Remove columns due to missing data: Int64Index([36], dtype='int64')\n",
      "(4336, 63)\n",
      "(482, 63)\n"
     ]
    },
    {
     "data": {
      "image/png": "[encoded data removed]",
      "text/plain": [
       "<Figure size 432x288 with 1 Axes>"
      ]
     },
     "metadata": {
      "needs_background": "light"
     },
     "output_type": "display_data"
    }
   ],
   "source": [
    "# PREPARE THE DATA\n",
    "\n",
    "# Cleaning\n",
    "# Dealing with missing data in columns\n",
    "NaN_col = np.zeros((1, len(data_num.columns)-2))\n",
    "\n",
    "for i in range((len(data_num.columns) - 2)):\n",
    "    NaN_col[0][i] = ((data_num.iloc[:,i]).isnull().sum())/(len(data_num))\n",
    "    \n",
    "NaN_col_df = pd.DataFrame(np.transpose(NaN_col))\n",
    "NaN_col_df.plot()\n",
    "\n",
    "# Remove columns with too much missing data, set threshold = 0.1\n",
    "col_threshold = 0.1\n",
    "remove_col = NaN_col_df[NaN_col_df.iloc[:, 0] >= col_threshold]\n",
    "print('Remove columns due to missing data: {}'.format(remove_col.index))\n",
    "\n",
    "X_train = X_train.drop(X_train.columns[remove_col.index], axis = 1)\n",
    "X_test = X_test.drop(X_test.columns[remove_col.index], axis = 1)\n",
    "\n",
    "print(X_train.shape)\n",
    "print(X_test.shape)"
   ]
  },
  {
   "cell_type": "code",
   "execution_count": null,
   "metadata": {},
   "outputs": [],
   "source": []
  },
  {
   "cell_type": "code",
   "execution_count": 18,
   "metadata": {},
   "outputs": [],
   "source": [
    "# Transformations and Scaling\n",
    "\n",
    "from sklearn.impute import SimpleImputer\n",
    "\n",
    "# Transform missing data into mean of other values\n",
    "NaN_mean = SimpleImputer(missing_values=np.nan, strategy='mean')\n",
    "features = X_train.columns\n",
    "X_train[features] = NaN_mean.fit_transform(X_train[features])\n",
    "X_test[features] = NaN_mean.transform(X_test[features])\n",
    "\n",
    "# Scaling\n",
    "\n",
    "from sklearn.preprocessing import StandardScaler\n",
    "\n",
    "## Data Scaler\n",
    "#  Create a StandardScaler object\n",
    "#    scaler: sklearn standard scaler\n",
    "scaler = None\n",
    "\n",
    "scaler = StandardScaler()"
   ]
  },
  {
   "cell_type": "code",
   "execution_count": null,
   "metadata": {},
   "outputs": [],
   "source": []
  },
  {
   "cell_type": "code",
   "execution_count": 19,
   "metadata": {},
   "outputs": [],
   "source": [
    "# TRAIN A MODEL\n",
    "\n",
    "# Select a Model"
   ]
  },
  {
   "cell_type": "code",
   "execution_count": 20,
   "metadata": {},
   "outputs": [
    {
     "data": {
      "text/plain": [
       "Pipeline(memory=None,\n",
       "         steps=[('Scaler',\n",
       "                 StandardScaler(copy=True, with_mean=True, with_std=True)),\n",
       "                ('Logistic Regression',\n",
       "                 LogisticRegression(C=1.0, class_weight=None, dual=False,\n",
       "                                    fit_intercept=True, intercept_scaling=1,\n",
       "                                    l1_ratio=None, max_iter=100,\n",
       "                                    multi_class='auto', n_jobs=None,\n",
       "                                    penalty='l2', random_state=None,\n",
       "                                    solver='liblinear', tol=0.0001, verbose=0,\n",
       "                                    warm_start=False))],\n",
       "         verbose=False)"
      ]
     },
     "execution_count": 20,
     "metadata": {},
     "output_type": "execute_result"
    },
    {
     "name": "stdout",
     "output_type": "stream",
     "text": [
      "Model LR: Logistic Regression in sample score=0.94\n",
      "\n",
      "Model LR: Logistic Regression avg cross validation score=0.93\n",
      "\n",
      "Model LR: Logistic Regression out-of-sample score=0.93\n",
      "\n"
     ]
    },
    {
     "data": {
      "image/png": "[encoded data removed]",
      "text/plain": [
       "<Figure size 864x288 with 1 Axes>"
      ]
     },
     "metadata": {
      "needs_background": "light"
     },
     "output_type": "display_data"
    }
   ],
   "source": [
    "# 1. Logistic Regression Classifier\n",
    "\n",
    "import time\n",
    "from sklearn.linear_model import LogisticRegression\n",
    "from sklearn.model_selection import train_test_split, cross_val_score\n",
    "from sklearn.preprocessing import StandardScaler\n",
    "\n",
    "from sklearn.pipeline import Pipeline\n",
    "\n",
    "clf_LR = None\n",
    "name_LR = None\n",
    "\n",
    "clf_LR = LogisticRegression(solver = 'liblinear')\n",
    "name_LR = 'Logistic Regression'\n",
    "model_pipeline_LR = Pipeline(steps = [('Scaler', scaler), (name_LR, clf_LR)])\n",
    "\n",
    "\n",
    "# Train the model using accuracy score\n",
    "\n",
    "from sklearn.metrics import accuracy_score\n",
    "# Set variable\n",
    "# score_in_sample: a scalar number, score for your in-sample examples\n",
    "score_in_sample_LR = None\n",
    "\n",
    "model_pipeline_LR.fit(X_train, y_train)\n",
    "score_in_sample_LR = accuracy_score(y_train, model_pipeline_LR.predict(X_train))\n",
    "\n",
    "print(\"Model LR: {m:s} in sample score={s:3.2f}\\n\".format(m=name_LR, s=score_in_sample_LR))\n",
    "\n",
    "\n",
    "# Train the model using cross validation\n",
    "\n",
    "# Set variable \n",
    "#  scores: an array of scores (length 5), one for each fold that is out-of-sample during cross-validation\n",
    "#  k: number of folds\n",
    "cross_val_scores_LR = None\n",
    "k = 5\n",
    "\n",
    "t0 = time.time()\n",
    "\n",
    "cross_val_scores_LR = cross_val_score(model_pipeline_LR, X_train, y_train, cv = k)\n",
    "\n",
    "print(\"Model LR: {m:s} avg cross validation score={s:3.2f}\\n\".format(m=name_LR, s=cross_val_scores_LR.mean()) )\n",
    "\n",
    "\n",
    "# Compute the out-of-sample score\n",
    "\n",
    "# Set variable to store the model accuracy on the test set\n",
    "score_out_of_sample_LR = None\n",
    "\n",
    "score_out_of_sample_LR = accuracy_score(y_test, model_pipeline_LR.predict(X_test))\n",
    "\n",
    "print(\"Model LR: {m:s} out-of-sample score={s:3.2f}\\n\".format(m = name_LR, s = score_out_of_sample_LR))\n",
    "\n",
    "\n",
    "# ERROR ANALYSIS\n",
    "\n",
    "# Precison/Recall Tradeoff\n",
    "from sklearn.metrics import precision_recall_curve\n",
    "\n",
    "y_test_predict_LR = model_pipeline_LR.predict(X_test)\n",
    "\n",
    "precisions, recalls, thresholds = precision_recall_curve(y_test, y_test_predict_LR)\n",
    "\n",
    "# Convert thresholds (log odds) to probability\n",
    "probs = np.exp(thresholds)/(1+np.exp(thresholds))\n",
    "\n",
    "def plot_precision_recall_vs_threshold (precisions, recalls, thresholds, probs = None):\n",
    "    fig, ax = plt.subplots(1, 1, figsize = (12, 4))\n",
    "    \n",
    "    if probs is None:\n",
    "        horiz = thresholds\n",
    "        label = \"Threshold\"\n",
    "    else:\n",
    "        horiz = probs\n",
    "        label = \"Probability threshold\"\n",
    "    _ = ax.plot(horiz, precisions[:-1], \"b--\", label=\"Precision\", linewidth=2)\n",
    "    _ = ax.plot(horiz, recalls[:-1], \"g-\", label=\"Recall\", linewidth=2)\n",
    "    _ = ax.set_xlabel(label, fontsize=16)\n",
    "    _ = ax.legend(loc=\"upper left\", fontsize=16)\n",
    "    _ = ax.set_ylim([0, 1])\n",
    "    \n",
    "    _ = ax.set_xlim([ horiz.min(), horiz.max()])\n",
    "    \n",
    "    return fig, ax\n",
    "\n",
    "fig, ax = plot_precision_recall_vs_threshold(precisions, recalls, thresholds, probs=probs)"
   ]
  },
  {
   "cell_type": "code",
   "execution_count": 21,
   "metadata": {},
   "outputs": [
    {
     "ename": "NameError",
     "evalue": "name 'model_pipeline' is not defined",
     "output_type": "error",
     "traceback": [
      "\u001b[0;31m---------------------------------------------------------------------------\u001b[0m",
      "\u001b[0;31mNameError\u001b[0m                                 Traceback (most recent call last)",
      "\u001b[0;32m<ipython-input-21-2c123047167e>\u001b[0m in \u001b[0;36m<module>\u001b[0;34m\u001b[0m\n\u001b[1;32m      5\u001b[0m \u001b[0;32mimport\u001b[0m \u001b[0mmatplotlib\u001b[0m\u001b[0;34m.\u001b[0m\u001b[0mpyplot\u001b[0m \u001b[0;32mas\u001b[0m \u001b[0mplt\u001b[0m\u001b[0;34m\u001b[0m\u001b[0;34m\u001b[0m\u001b[0m\n\u001b[1;32m      6\u001b[0m \u001b[0;34m\u001b[0m\u001b[0m\n\u001b[0;32m----> 7\u001b[0;31m \u001b[0my_test_predict_LR\u001b[0m \u001b[0;34m=\u001b[0m \u001b[0mmodel_pipeline\u001b[0m\u001b[0;34m.\u001b[0m\u001b[0mpredict\u001b[0m\u001b[0;34m(\u001b[0m\u001b[0mX_test\u001b[0m\u001b[0;34m)\u001b[0m\u001b[0;34m\u001b[0m\u001b[0;34m\u001b[0m\u001b[0m\n\u001b[0m\u001b[1;32m      8\u001b[0m \u001b[0mconfusion_mat_LR\u001b[0m \u001b[0;34m=\u001b[0m \u001b[0mconfusion_matrix\u001b[0m\u001b[0;34m(\u001b[0m\u001b[0my_test\u001b[0m\u001b[0;34m,\u001b[0m \u001b[0my_test_predict_LR\u001b[0m\u001b[0;34m)\u001b[0m\u001b[0;34m\u001b[0m\u001b[0;34m\u001b[0m\u001b[0m\n\u001b[1;32m      9\u001b[0m \u001b[0;34m\u001b[0m\u001b[0m\n",
      "\u001b[0;31mNameError\u001b[0m: name 'model_pipeline' is not defined"
     ]
    }
   ],
   "source": [
    "# Confusion Matrix\n",
    "\n",
    "from sklearn.metrics import confusion_matrix\n",
    "import seaborn as sn\n",
    "import matplotlib.pyplot as plt\n",
    "\n",
    "y_test_predict_LR = model_pipeline.predict(X_test)\n",
    "confusion_mat_LR = confusion_matrix(y_test, y_test_predict_LR)\n",
    "\n",
    "sn.heatmap(confusion_mat_LR, square=True, annot=True, fmt='d',cbar=False, xticklabels=np.unique(y),\n",
    "           yticklabels=np.unique(y))\n",
    "\n",
    "plt.show()\n",
    "\n",
    "[[TN_LR, FP_LR], [FN_LR, TP_LR]] = confusion_matrix(y_test, y_test_predict_LR)\n",
    "Accuracy_LR = (TP_LR + TN_LR)/(TP_LR + FP_LR + TN_LR + FN_LR)\n",
    "Recall_LR = TP_LR/(TP_LR + FN_LR)\n",
    "Precision_LR = TP_LR/(TP_LR + FP_LR)\n",
    "\n",
    "print(\"Model LR: {m:s} Accuracy={s:3.2f}\\n\".format(m=name_LR, s=Accuracy_LR))\n",
    "print(\"Model LR: {m:s} Recall={s:3.2f}\\n\".format(m=name_LR, s=Recall_LR))\n",
    "print(\"Model LR: {m:s} Precision={s:3.2f}\\n\".format(m=name_LR, s=Precision_LR))"
   ]
  },
  {
   "cell_type": "code",
   "execution_count": 22,
   "metadata": {},
   "outputs": [
    {
     "data": {
      "text/plain": [
       "Pipeline(memory=None,\n",
       "         steps=[('Scaler',\n",
       "                 StandardScaler(copy=True, with_mean=True, with_std=True)),\n",
       "                ('Support Vector Classifier',\n",
       "                 SVC(C=1.0, break_ties=False, cache_size=200, class_weight=None,\n",
       "                     coef0=0.0, decision_function_shape='ovr', degree=3,\n",
       "                     gamma='auto', kernel='rbf', max_iter=-1, probability=False,\n",
       "                     random_state=None, shrinking=True, tol=0.001,\n",
       "                     verbose=False))],\n",
       "         verbose=False)"
      ]
     },
     "execution_count": 22,
     "metadata": {},
     "output_type": "execute_result"
    },
    {
     "name": "stdout",
     "output_type": "stream",
     "text": [
      "Model SVC: Support Vector Classifier in sample score=0.94\n",
      "\n",
      "Model SVC: Support Vector Classifier avg cross validation score=0.94\n",
      "\n",
      "Model SVC: Support Vector Classifier out-of-sample score=0.93\n",
      "\n"
     ]
    },
    {
     "data": {
      "text/plain": [
       "<matplotlib.axes._subplots.AxesSubplot at 0x7f8d5f306c50>"
      ]
     },
     "execution_count": 22,
     "metadata": {},
     "output_type": "execute_result"
    },
    {
     "data": {
      "image/png": "[encoded data removed]",
      "text/plain": [
       "<Figure size 432x288 with 1 Axes>"
      ]
     },
     "metadata": {
      "needs_background": "light"
     },
     "output_type": "display_data"
    },
    {
     "name": "stdout",
     "output_type": "stream",
     "text": [
      "Model SVC: Support Vector Classifier Accuracy=0.93\n",
      "\n",
      "Model SVC: Support Vector Classifier Recall=0.00\n",
      "\n",
      "Model SVC: Support Vector Classifier Precision=nan\n",
      "\n"
     ]
    },
    {
     "name": "stderr",
     "output_type": "stream",
     "text": [
      "/Users/wuqian/opt/anaconda3/lib/python3.7/site-packages/ipykernel_launcher.py:56: RuntimeWarning: invalid value encountered in long_scalars\n"
     ]
    }
   ],
   "source": [
    "# 2. Support Vector Classifier\n",
    "\n",
    "from sklearn.svm import SVC\n",
    "\n",
    "clf_SVC = SVC(gamma='auto')\n",
    "name_SVC = 'Support Vector Classifier'\n",
    "model_pipeline_SVC = Pipeline(steps = [('Scaler', scaler), (name_SVC, clf_SVC)])\n",
    "\n",
    "\n",
    "# Train the model using accuracy score\n",
    "\n",
    "model_pipeline_SVC.fit(X_train, y_train)\n",
    "score_in_sample_SVC = accuracy_score(y_train, model_pipeline_SVC.predict(X_train))\n",
    "\n",
    "print(\"Model SVC: {m:s} in sample score={s:3.2f}\\n\".format(m=name_SVC, s=score_in_sample_SVC))\n",
    "\n",
    "\n",
    "# Train the model using cross validation\n",
    "cross_val_scores_SVC = None\n",
    "k = 5\n",
    "\n",
    "t0 = time.time()\n",
    "\n",
    "cross_val_scores_SVC = cross_val_score(model_pipeline_SVC, X_train, y_train, cv = k)\n",
    "\n",
    "print(\"Model SVC: {m:s} avg cross validation score={s:3.2f}\\n\".format(m=name_SVC, s=cross_val_scores_SVC.mean()) )\n",
    "\n",
    "\n",
    "# Compute the out-of-sample score\n",
    "\n",
    "score_out_of_sample_SVC = None\n",
    "\n",
    "score_out_of_sample_SVC = accuracy_score(y_test, model_pipeline_SVC.predict(X_test))\n",
    "\n",
    "print(\"Model SVC: {m:s} out-of-sample score={s:3.2f}\\n\".format(m=name_SVC, s=score_out_of_sample_SVC))\n",
    "\n",
    "\n",
    "# ERROR ANALYSIS\n",
    "# Confusion Matrix\n",
    "\n",
    "from sklearn.metrics import confusion_matrix\n",
    "import seaborn as sn\n",
    "import matplotlib.pyplot as plt\n",
    "\n",
    "y_test_predict_SVC = model_pipeline_SVC.predict(X_test)\n",
    "confusion_mat_SVC = confusion_matrix(y_test, y_test_predict_SVC)\n",
    "\n",
    "sn.heatmap(confusion_mat_SVC, square=True, annot=True, fmt='d',cbar=False, xticklabels=np.unique(y),\n",
    "           yticklabels=np.unique(y))\n",
    "\n",
    "plt.show()\n",
    "\n",
    "[[TN_SVC, FP_SVC], [FN_SVC, TP_SVC]] = confusion_matrix(y_test, y_test_predict_SVC)\n",
    "Accuracy_SVC = (TP_SVC + TN_SVC)/(TP_SVC + FP_SVC + TN_SVC + FN_SVC)\n",
    "Recall_SVC = TP_SVC/(TP_SVC + FN_SVC)\n",
    "Precision_SVC = TP_SVC/(TP_SVC + FP_SVC)\n",
    "\n",
    "print(\"Model SVC: {m:s} Accuracy={s:3.2f}\\n\".format(m=name_SVC, s=Accuracy_SVC))\n",
    "print(\"Model SVC: {m:s} Recall={s:3.2f}\\n\".format(m=name_SVC, s=Recall_SVC))\n",
    "print(\"Model SVC: {m:s} Precision={s:3.2f}\\n\".format(m=name_SVC, s=Precision_SVC))"
   ]
  },
  {
   "cell_type": "code",
   "execution_count": 23,
   "metadata": {},
   "outputs": [
    {
     "data": {
      "text/plain": [
       "Pipeline(memory=None,\n",
       "         steps=[('Scaler',\n",
       "                 StandardScaler(copy=True, with_mean=True, with_std=True)),\n",
       "                ('Random Forest Classifier',\n",
       "                 RandomForestClassifier(bootstrap=True, ccp_alpha=0.0,\n",
       "                                        class_weight=None, criterion='gini',\n",
       "                                        max_depth=5, max_features='auto',\n",
       "                                        max_leaf_nodes=None, max_samples=None,\n",
       "                                        min_impurity_decrease=0.0,\n",
       "                                        min_impurity_split=None,\n",
       "                                        min_samples_leaf=1, min_samples_split=2,\n",
       "                                        min_weight_fraction_leaf=0.0,\n",
       "                                        n_estimators=100, n_jobs=None,\n",
       "                                        oob_score=False, random_state=0,\n",
       "                                        verbose=0, warm_start=False))],\n",
       "         verbose=False)"
      ]
     },
     "execution_count": 23,
     "metadata": {},
     "output_type": "execute_result"
    },
    {
     "name": "stdout",
     "output_type": "stream",
     "text": [
      "Model RF: Random Forest Classifier in sample score=0.96\n",
      "\n",
      "Model RF: Random Forest Classifier avg cross validation score=0.95\n",
      "\n",
      "Model RF: Random Forest Classifier out-of-sample score=0.94\n",
      "\n"
     ]
    },
    {
     "data": {
      "text/plain": [
       "<matplotlib.axes._subplots.AxesSubplot at 0x7f8d5fb73850>"
      ]
     },
     "execution_count": 23,
     "metadata": {},
     "output_type": "execute_result"
    },
    {
     "data": {
      "image/png": "[encoded data removed]",
      "text/plain": [
       "<Figure size 432x288 with 1 Axes>"
      ]
     },
     "metadata": {
      "needs_background": "light"
     },
     "output_type": "display_data"
    },
    {
     "name": "stdout",
     "output_type": "stream",
     "text": [
      "Model RF: Random Forest Classifier Accuracy=0.94\n",
      "\n",
      "Model RF: Random Forest Classifier Recall=0.21\n",
      "\n",
      "Model RF: Random Forest Classifier Precision=0.78\n",
      "\n"
     ]
    }
   ],
   "source": [
    "# 3. Random Forest Classifier\n",
    "\n",
    "from sklearn.ensemble import RandomForestClassifier\n",
    "\n",
    "clf_RF = RandomForestClassifier(max_depth = 5, random_state = 0)\n",
    "name_RF = 'Random Forest Classifier'\n",
    "model_pipeline_RF = Pipeline(steps = [('Scaler', scaler), (name_RF, clf_RF)])\n",
    "\n",
    "\n",
    "# Train the model using accuracy score\n",
    "\n",
    "model_pipeline_RF.fit(X_train, y_train)\n",
    "score_in_sample_RF = accuracy_score(y_train, model_pipeline_RF.predict(X_train))\n",
    "\n",
    "print(\"Model RF: {m:s} in sample score={s:3.2f}\\n\".format(m=name_RF, s=score_in_sample_RF))\n",
    "\n",
    "\n",
    "# Train the model using cross validation\n",
    "cross_val_scores_RF = None\n",
    "k = 5\n",
    "\n",
    "t0 = time.time()\n",
    "\n",
    "cross_val_scores_RF = cross_val_score(model_pipeline_RF, X_train, y_train, cv = k)\n",
    "\n",
    "print(\"Model RF: {m:s} avg cross validation score={s:3.2f}\\n\".format(m=name_RF, s=cross_val_scores_RF.mean()) )\n",
    "\n",
    "\n",
    "# Compute the out-of-sample score\n",
    "\n",
    "score_out_of_sample_RF = None\n",
    "\n",
    "score_out_of_sample_RF = accuracy_score(y_test, model_pipeline_RF.predict(X_test))\n",
    "\n",
    "print(\"Model RF: {m:s} out-of-sample score={s:3.2f}\\n\".format(m=name_RF, s=score_out_of_sample_RF))\n",
    "\n",
    "\n",
    "# ERROR ANALYSIS\n",
    "# Confusion Matrix\n",
    "\n",
    "from sklearn.metrics import confusion_matrix\n",
    "import seaborn as sn\n",
    "import matplotlib.pyplot as plt\n",
    "\n",
    "y_test_predict_RF = model_pipeline_RF.predict(X_test)\n",
    "confusion_mat_RF = confusion_matrix(y_test, y_test_predict_RF)\n",
    "\n",
    "sn.heatmap(confusion_mat_RF, square=True, annot=True, fmt='d',cbar=False, xticklabels=np.unique(y),\n",
    "           yticklabels=np.unique(y))\n",
    "\n",
    "plt.show()\n",
    "\n",
    "[[TN_RF, FP_RF], [FN_RF, TP_RF]] = confusion_matrix(y_test, y_test_predict_RF)\n",
    "Accuracy_RF = (TP_RF + TN_RF)/(TP_RF + FP_RF + TN_RF + FN_RF)\n",
    "Recall_RF = TP_RF/(TP_RF + FN_RF)\n",
    "Precision_RF = TP_RF/(TP_RF + FP_RF)\n",
    "\n",
    "print(\"Model RF: {m:s} Accuracy={s:3.2f}\\n\".format(m=name_RF, s=Accuracy_RF))\n",
    "print(\"Model RF: {m:s} Recall={s:3.2f}\\n\".format(m=name_RF, s=Recall_RF))\n",
    "print(\"Model RF: {m:s} Precision={s:3.2f}\\n\".format(m=name_RF, s=Precision_RF))"
   ]
  },
  {
   "cell_type": "code",
   "execution_count": 24,
   "metadata": {},
   "outputs": [
    {
     "data": {
      "text/plain": [
       "Pipeline(memory=None,\n",
       "         steps=[('Scaler',\n",
       "                 StandardScaler(copy=True, with_mean=True, with_std=True)),\n",
       "                ('Decision Tree',\n",
       "                 DecisionTreeClassifier(ccp_alpha=0.0, class_weight=None,\n",
       "                                        criterion='gini', max_depth=None,\n",
       "                                        max_features=None, max_leaf_nodes=None,\n",
       "                                        min_impurity_decrease=0.0,\n",
       "                                        min_impurity_split=None,\n",
       "                                        min_samples_leaf=1, min_samples_split=2,\n",
       "                                        min_weight_fraction_leaf=0.0,\n",
       "                                        presort='deprecated', random_state=None,\n",
       "                                        splitter='best'))],\n",
       "         verbose=False)"
      ]
     },
     "execution_count": 24,
     "metadata": {},
     "output_type": "execute_result"
    },
    {
     "name": "stdout",
     "output_type": "stream",
     "text": [
      "Model DT: Decision Tree in sample score=1.00\n",
      "\n",
      "Model DT: Decision Tree avg cross validation score=0.94\n",
      "\n",
      "Model DT: Decision Tree out-of-sample score=0.93\n",
      "\n"
     ]
    },
    {
     "data": {
      "text/plain": [
       "<matplotlib.axes._subplots.AxesSubplot at 0x7f8d5fd77cd0>"
      ]
     },
     "execution_count": 24,
     "metadata": {},
     "output_type": "execute_result"
    },
    {
     "data": {
      "image/png": "[encoded data removed]",
      "text/plain": [
       "<Figure size 432x288 with 1 Axes>"
      ]
     },
     "metadata": {
      "needs_background": "light"
     },
     "output_type": "display_data"
    },
    {
     "name": "stdout",
     "output_type": "stream",
     "text": [
      "Model DT: Decision Tree Accuracy=0.93\n",
      "\n",
      "Model DT: Decision Tree Recall=0.55\n",
      "\n",
      "Model DT: Decision Tree Precision=0.46\n",
      "\n"
     ]
    }
   ],
   "source": [
    "# 4. Decision Trees Classifier\n",
    "\n",
    "from sklearn import tree\n",
    "\n",
    "clf_DT = tree.DecisionTreeClassifier()\n",
    "name_DT = 'Decision Tree'\n",
    "model_pipeline_DT = Pipeline(steps = [('Scaler', scaler), (name_DT, clf_DT)])\n",
    "\n",
    "\n",
    "# Train the model using accuracy score\n",
    "\n",
    "model_pipeline_DT.fit(X_train, y_train)\n",
    "score_in_sample_DT = accuracy_score(y_train, model_pipeline_DT.predict(X_train))\n",
    "\n",
    "print(\"Model DT: {m:s} in sample score={s:3.2f}\\n\".format(m=name_DT, s=score_in_sample_DT))\n",
    "\n",
    "\n",
    "# Train the model using cross validation\n",
    "cross_val_scores_DT = None\n",
    "k = 5\n",
    "\n",
    "t0 = time.time()\n",
    "\n",
    "cross_val_scores_DT = cross_val_score(model_pipeline_DT, X_train, y_train, cv = k)\n",
    "\n",
    "print(\"Model DT: {m:s} avg cross validation score={s:3.2f}\\n\".format(m=name_DT, s=cross_val_scores_DT.mean()) )\n",
    "\n",
    "\n",
    "# Compute the out-of-sample score\n",
    "\n",
    "score_out_of_sample_DT = None\n",
    "\n",
    "score_out_of_sample_DT = accuracy_score(y_test, model_pipeline_DT.predict(X_test))\n",
    "\n",
    "print(\"Model DT: {m:s} out-of-sample score={s:3.2f}\\n\".format(m=name_DT, s=score_out_of_sample_DT))\n",
    "\n",
    "\n",
    "# ERROR ANALYSIS\n",
    "# Confusion Matrix\n",
    "\n",
    "from sklearn.metrics import confusion_matrix\n",
    "import seaborn as sn\n",
    "import matplotlib.pyplot as plt\n",
    "\n",
    "y_test_predict_DT = model_pipeline_DT.predict(X_test)\n",
    "confusion_mat_DT = confusion_matrix(y_test, y_test_predict_DT)\n",
    "\n",
    "sn.heatmap(confusion_mat_DT, square=True, annot=True, fmt='d',cbar=False, xticklabels=np.unique(y),\n",
    "           yticklabels=np.unique(y))\n",
    "\n",
    "plt.show()\n",
    "\n",
    "[[TN_DT, FP_DT], [FN_DT, TP_DT]] = confusion_matrix(y_test, y_test_predict_DT)\n",
    "Accuracy_DT = (TP_DT + TN_DT)/(TP_DT + FP_DT + TN_DT + FN_DT)\n",
    "Recall_DT = TP_DT/(TP_DT + FN_DT)\n",
    "Precision_DT = TP_DT/(TP_DT + FP_DT)\n",
    "\n",
    "print(\"Model DT: {m:s} Accuracy={s:3.2f}\\n\".format(m=name_DT, s=Accuracy_DT))\n",
    "print(\"Model DT: {m:s} Recall={s:3.2f}\\n\".format(m=name_DT, s=Recall_DT))\n",
    "print(\"Model DT: {m:s} Precision={s:3.2f}\\n\".format(m=name_DT, s=Precision_DT))"
   ]
  },
  {
   "cell_type": "code",
   "execution_count": 25,
   "metadata": {},
   "outputs": [
    {
     "data": {
      "text/plain": [
       "Pipeline(memory=None,\n",
       "         steps=[('Scaler',\n",
       "                 StandardScaler(copy=True, with_mean=True, with_std=True)),\n",
       "                ('Naive Bayes', GaussianNB(priors=None, var_smoothing=1e-09))],\n",
       "         verbose=False)"
      ]
     },
     "execution_count": 25,
     "metadata": {},
     "output_type": "execute_result"
    },
    {
     "name": "stdout",
     "output_type": "stream",
     "text": [
      "Model NB: Naive Bayes in sample score=0.16\n",
      "\n",
      "Model NB: Naive Bayes avg cross validation score=0.16\n",
      "\n",
      "Model NB: Naive Bayes out-of-sample score=0.18\n",
      "\n"
     ]
    },
    {
     "data": {
      "text/plain": [
       "<matplotlib.axes._subplots.AxesSubplot at 0x7f8d5da5e950>"
      ]
     },
     "execution_count": 25,
     "metadata": {},
     "output_type": "execute_result"
    },
    {
     "data": {
      "image/png": "[encoded data removed]",
      "text/plain": [
       "<Figure size 432x288 with 1 Axes>"
      ]
     },
     "metadata": {
      "needs_background": "light"
     },
     "output_type": "display_data"
    },
    {
     "name": "stdout",
     "output_type": "stream",
     "text": [
      "Model NB: Naive Bayes Accuracy=0.18\n",
      "\n",
      "Model NB: Naive Bayes Recall=0.94\n",
      "\n",
      "Model NB: Naive Bayes Precision=0.07\n",
      "\n"
     ]
    }
   ],
   "source": [
    "# 5. Naive Bayes\n",
    "\n",
    "from sklearn.naive_bayes import GaussianNB\n",
    "\n",
    "clf_NB = GaussianNB()\n",
    "name_NB = 'Naive Bayes'\n",
    "model_pipeline_NB = Pipeline(steps = [('Scaler', scaler), (name_NB, clf_NB)])\n",
    "\n",
    "# Train the model using accuracy score\n",
    "\n",
    "model_pipeline_NB.fit(X_train, y_train)\n",
    "score_in_sample_NB = accuracy_score(y_train, model_pipeline_NB.predict(X_train))\n",
    "\n",
    "print(\"Model NB: {m:s} in sample score={s:3.2f}\\n\".format(m=name_NB, s=score_in_sample_NB))\n",
    "\n",
    "\n",
    "# Train the model using cross validation\n",
    "cross_val_scores_NB = None\n",
    "k = 5\n",
    "\n",
    "t0 = time.time()\n",
    "\n",
    "cross_val_scores_NB = cross_val_score(model_pipeline_NB, X_train, y_train, cv = k)\n",
    "\n",
    "print(\"Model NB: {m:s} avg cross validation score={s:3.2f}\\n\".format(m=name_NB, s=cross_val_scores_NB.mean()) )\n",
    "\n",
    "\n",
    "# Compute the out-of-sample score\n",
    "\n",
    "score_out_of_sample_NB = None\n",
    "\n",
    "score_out_of_sample_NB = accuracy_score(y_test, model_pipeline_NB.predict(X_test))\n",
    "\n",
    "print(\"Model NB: {m:s} out-of-sample score={s:3.2f}\\n\".format(m=name_NB, s=score_out_of_sample_NB))\n",
    "\n",
    "\n",
    "# ERROR ANALYSIS\n",
    "# Confusion Matrix\n",
    "\n",
    "from sklearn.metrics import confusion_matrix\n",
    "import seaborn as sn\n",
    "import matplotlib.pyplot as plt\n",
    "\n",
    "y_test_predict_NB = model_pipeline_NB.predict(X_test)\n",
    "confusion_mat_NB = confusion_matrix(y_test, y_test_predict_NB)\n",
    "\n",
    "sn.heatmap(confusion_mat_NB, square=True, annot=True, fmt='d',cbar=False, xticklabels=np.unique(y),\n",
    "           yticklabels=np.unique(y))\n",
    "\n",
    "plt.show()\n",
    "\n",
    "[[TN_NB, FP_NB], [FN_NB, TP_NB]] = confusion_matrix(y_test, y_test_predict_NB)\n",
    "Accuracy_NB = (TP_NB + TN_NB)/(TP_NB + FP_NB + TN_NB + FN_NB)\n",
    "Recall_NB = TP_NB/(TP_NB + FN_NB)\n",
    "Precision_NB = TP_NB/(TP_NB + FP_NB)\n",
    "\n",
    "print(\"Model NB: {m:s} Accuracy={s:3.2f}\\n\".format(m=name_NB, s=Accuracy_NB))\n",
    "print(\"Model NB: {m:s} Recall={s:3.2f}\\n\".format(m=name_NB, s=Recall_NB))\n",
    "print(\"Model NB: {m:s} Precision={s:3.2f}\\n\".format(m=name_NB, s=Precision_NB))"
   ]
  },
  {
   "cell_type": "code",
   "execution_count": 26,
   "metadata": {},
   "outputs": [
    {
     "name": "stderr",
     "output_type": "stream",
     "text": [
      "/Users/wuqian/opt/anaconda3/lib/python3.7/site-packages/sklearn/linear_model/_stochastic_gradient.py:557: ConvergenceWarning: Maximum number of iteration reached before convergence. Consider increasing max_iter to improve the fit.\n",
      "  ConvergenceWarning)\n"
     ]
    },
    {
     "data": {
      "text/plain": [
       "Pipeline(memory=None,\n",
       "         steps=[('Scaler',\n",
       "                 StandardScaler(copy=True, with_mean=True, with_std=True)),\n",
       "                ('Gradient Descent',\n",
       "                 SGDClassifier(alpha=0.0001, average=False, class_weight=None,\n",
       "                               early_stopping=False, epsilon=0.1, eta0=0.0,\n",
       "                               fit_intercept=True, l1_ratio=0.15,\n",
       "                               learning_rate='optimal', loss='hinge',\n",
       "                               max_iter=5, n_iter_no_change=5, n_jobs=None,\n",
       "                               penalty='l2', power_t=0.5, random_state=None,\n",
       "                               shuffle=True, tol=0.001, validation_fraction=0.1,\n",
       "                               verbose=0, warm_start=False))],\n",
       "         verbose=False)"
      ]
     },
     "execution_count": 26,
     "metadata": {},
     "output_type": "execute_result"
    },
    {
     "name": "stdout",
     "output_type": "stream",
     "text": [
      "Model SGD: Gradient Descent in sample score=0.93\n",
      "\n",
      "Model SGD: Gradient Descent avg cross validation score=0.92\n",
      "\n",
      "Model SGD: Gradient Descent out-of-sample score=0.91\n",
      "\n"
     ]
    },
    {
     "name": "stderr",
     "output_type": "stream",
     "text": [
      "/Users/wuqian/opt/anaconda3/lib/python3.7/site-packages/sklearn/linear_model/_stochastic_gradient.py:557: ConvergenceWarning: Maximum number of iteration reached before convergence. Consider increasing max_iter to improve the fit.\n",
      "  ConvergenceWarning)\n",
      "/Users/wuqian/opt/anaconda3/lib/python3.7/site-packages/sklearn/linear_model/_stochastic_gradient.py:557: ConvergenceWarning: Maximum number of iteration reached before convergence. Consider increasing max_iter to improve the fit.\n",
      "  ConvergenceWarning)\n",
      "/Users/wuqian/opt/anaconda3/lib/python3.7/site-packages/sklearn/linear_model/_stochastic_gradient.py:557: ConvergenceWarning: Maximum number of iteration reached before convergence. Consider increasing max_iter to improve the fit.\n",
      "  ConvergenceWarning)\n",
      "/Users/wuqian/opt/anaconda3/lib/python3.7/site-packages/sklearn/linear_model/_stochastic_gradient.py:557: ConvergenceWarning: Maximum number of iteration reached before convergence. Consider increasing max_iter to improve the fit.\n",
      "  ConvergenceWarning)\n",
      "/Users/wuqian/opt/anaconda3/lib/python3.7/site-packages/sklearn/linear_model/_stochastic_gradient.py:557: ConvergenceWarning: Maximum number of iteration reached before convergence. Consider increasing max_iter to improve the fit.\n",
      "  ConvergenceWarning)\n"
     ]
    },
    {
     "data": {
      "text/plain": [
       "<matplotlib.axes._subplots.AxesSubplot at 0x7f8d5f941390>"
      ]
     },
     "execution_count": 26,
     "metadata": {},
     "output_type": "execute_result"
    },
    {
     "data": {
      "image/png": "[encoded data removed]",
      "text/plain": [
       "<Figure size 432x288 with 1 Axes>"
      ]
     },
     "metadata": {
      "needs_background": "light"
     },
     "output_type": "display_data"
    },
    {
     "name": "stdout",
     "output_type": "stream",
     "text": [
      "Model SGD: Gradient Descent Accuracy=0.91\n",
      "\n",
      "Model SGD: Gradient Descent Recall=0.03\n",
      "\n",
      "Model SGD: Gradient Descent Precision=0.10\n",
      "\n"
     ]
    }
   ],
   "source": [
    "# 6. Gradient Descent\n",
    "\n",
    "from sklearn.linear_model import SGDClassifier\n",
    "\n",
    "clf_SGD = SGDClassifier(loss=\"hinge\", penalty=\"l2\", max_iter=5)\n",
    "name_SGD = 'Gradient Descent'\n",
    "model_pipeline_SGD = Pipeline(steps = [('Scaler', scaler), (name_SGD, clf_SGD)])\n",
    "\n",
    "# Train the model using accuracy score\n",
    "\n",
    "model_pipeline_SGD.fit(X_train, y_train)\n",
    "score_in_sample_SGD = accuracy_score(y_train, model_pipeline_SGD.predict(X_train))\n",
    "\n",
    "print(\"Model SGD: {m:s} in sample score={s:3.2f}\\n\".format(m=name_SGD, s=score_in_sample_SGD))\n",
    "\n",
    "\n",
    "# Train the model using cross validation\n",
    "cross_val_scores_SGD = None\n",
    "k = 5\n",
    "\n",
    "t0 = time.time()\n",
    "\n",
    "cross_val_scores_SGD = cross_val_score(model_pipeline_SGD, X_train, y_train, cv = k)\n",
    "\n",
    "print(\"Model SGD: {m:s} avg cross validation score={s:3.2f}\\n\".format(m=name_SGD, s=cross_val_scores_SGD.mean()) )\n",
    "\n",
    "\n",
    "# Compute the out-of-sample score\n",
    "\n",
    "score_out_of_sample_SGD = None\n",
    "\n",
    "score_out_of_sample_SGD = accuracy_score(y_test, model_pipeline_SGD.predict(X_test))\n",
    "\n",
    "print(\"Model SGD: {m:s} out-of-sample score={s:3.2f}\\n\".format(m=name_SGD, s=score_out_of_sample_SGD))\n",
    "\n",
    "\n",
    "# ERROR ANALYSIS\n",
    "# Confusion Matrix\n",
    "\n",
    "from sklearn.metrics import confusion_matrix\n",
    "import seaborn as sn\n",
    "import matplotlib.pyplot as plt\n",
    "\n",
    "y_test_predict_SGD = model_pipeline_SGD.predict(X_test)\n",
    "confusion_mat_SGD = confusion_matrix(y_test, y_test_predict_SGD)\n",
    "\n",
    "sn.heatmap(confusion_mat_SGD, square=True, annot=True, fmt='d',cbar=False, xticklabels=np.unique(y),\n",
    "           yticklabels=np.unique(y))\n",
    "\n",
    "plt.show()\n",
    "\n",
    "[[TN_SGD, FP_SGD], [FN_SGD, TP_SGD]] = confusion_matrix(y_test, y_test_predict_SGD)\n",
    "Accuracy_SGD = (TP_SGD + TN_SGD)/(TP_SGD + FP_SGD + TN_SGD + FN_SGD)\n",
    "Recall_SGD = TP_SGD/(TP_SGD + FN_SGD)\n",
    "Precision_SGD = TP_SGD/(TP_SGD + FP_SGD)\n",
    "\n",
    "print(\"Model SGD: {m:s} Accuracy={s:3.2f}\\n\".format(m=name_SGD, s=Accuracy_SGD))\n",
    "print(\"Model SGD: {m:s} Recall={s:3.2f}\\n\".format(m=name_SGD, s=Recall_SGD))\n",
    "print(\"Model SGD: {m:s} Precision={s:3.2f}\\n\".format(m=name_SGD, s=Precision_SGD))"
   ]
  },
  {
   "cell_type": "code",
   "execution_count": 27,
   "metadata": {},
   "outputs": [
    {
     "data": {
      "text/plain": [
       "Pipeline(memory=None,\n",
       "         steps=[('Scaler',\n",
       "                 StandardScaler(copy=True, with_mean=True, with_std=True)),\n",
       "                ('Gradient Boosting',\n",
       "                 GradientBoostingClassifier(ccp_alpha=0.0,\n",
       "                                            criterion='friedman_mse', init=None,\n",
       "                                            learning_rate=1.0, loss='deviance',\n",
       "                                            max_depth=1, max_features=None,\n",
       "                                            max_leaf_nodes=None,\n",
       "                                            min_impurity_decrease=0.0,\n",
       "                                            min_impurity_split=None,\n",
       "                                            min_samples_leaf=1,\n",
       "                                            min_samples_split=2,\n",
       "                                            min_weight_fraction_leaf=0.0,\n",
       "                                            n_estimators=100,\n",
       "                                            n_iter_no_change=None,\n",
       "                                            presort='deprecated',\n",
       "                                            random_state=0, subsample=1.0,\n",
       "                                            tol=0.0001, validation_fraction=0.1,\n",
       "                                            verbose=0, warm_start=False))],\n",
       "         verbose=False)"
      ]
     },
     "execution_count": 27,
     "metadata": {},
     "output_type": "execute_result"
    },
    {
     "name": "stdout",
     "output_type": "stream",
     "text": [
      "Model GB: Gradient Boosting in sample score=0.92\n",
      "\n",
      "Model GB: Gradient Boosting avg cross validation score=0.95\n",
      "\n",
      "Model GB: Gradient Boosting out-of-sample score=0.88\n",
      "\n"
     ]
    },
    {
     "data": {
      "text/plain": [
       "<matplotlib.axes._subplots.AxesSubplot at 0x7f8d5f9cce90>"
      ]
     },
     "execution_count": 27,
     "metadata": {},
     "output_type": "execute_result"
    },
    {
     "data": {
      "image/png": "[encoded data removed]",
      "text/plain": [
       "<Figure size 432x288 with 1 Axes>"
      ]
     },
     "metadata": {
      "needs_background": "light"
     },
     "output_type": "display_data"
    },
    {
     "name": "stdout",
     "output_type": "stream",
     "text": [
      "Model GB: Gradient Boosting Accuracy=0.88\n",
      "\n",
      "Model GB: Gradient Boosting Recall=0.42\n",
      "\n",
      "Model GB: Gradient Boosting Precision=0.27\n",
      "\n"
     ]
    }
   ],
   "source": [
    "#7. Gradient Boosting\n",
    "\n",
    "from sklearn.ensemble import GradientBoostingClassifier\n",
    "\n",
    "clf_GB = GradientBoostingClassifier(n_estimators=100, learning_rate=1.0, max_depth=1, random_state=0)\n",
    "name_GB = 'Gradient Boosting'\n",
    "model_pipeline_GB = Pipeline(steps = [('Scaler', scaler), (name_GB, clf_GB)])\n",
    "\n",
    "# Train the model using accuracy score\n",
    "\n",
    "model_pipeline_GB.fit(X_train, y_train)\n",
    "score_in_sample_GB = accuracy_score(y_train, model_pipeline_GB.predict(X_train))\n",
    "\n",
    "print(\"Model GB: {m:s} in sample score={s:3.2f}\\n\".format(m=name_GB, s=score_in_sample_GB))\n",
    "\n",
    "\n",
    "# Train the model using cross validation\n",
    "cross_val_scores_GB = None\n",
    "k = 5\n",
    "\n",
    "t0 = time.time()\n",
    "\n",
    "cross_val_scores_GB = cross_val_score(model_pipeline_GB, X_train, y_train, cv = k)\n",
    "\n",
    "print(\"Model GB: {m:s} avg cross validation score={s:3.2f}\\n\".format(m=name_GB, s=cross_val_scores_GB.mean()) )\n",
    "\n",
    "\n",
    "# Compute the out-of-sample score\n",
    "\n",
    "score_out_of_sample_GB = None\n",
    "\n",
    "score_out_of_sample_GB = accuracy_score(y_test, model_pipeline_GB.predict(X_test))\n",
    "\n",
    "print(\"Model GB: {m:s} out-of-sample score={s:3.2f}\\n\".format(m=name_GB, s=score_out_of_sample_GB))\n",
    "\n",
    "\n",
    "# ERROR ANALYSIS\n",
    "# Confusion Matrix\n",
    "\n",
    "from sklearn.metrics import confusion_matrix\n",
    "import seaborn as sn\n",
    "import matplotlib.pyplot as plt\n",
    "\n",
    "y_test_predict_GB = model_pipeline_GB.predict(X_test)\n",
    "confusion_mat_GB = confusion_matrix(y_test, y_test_predict_GB)\n",
    "\n",
    "sn.heatmap(confusion_mat_GB, square=True, annot=True, fmt='d',cbar=False, xticklabels=np.unique(y),\n",
    "           yticklabels=np.unique(y))\n",
    "\n",
    "plt.show()\n",
    "\n",
    "[[TN_GB, FP_GB], [FN_GB, TP_GB]] = confusion_matrix(y_test, y_test_predict_GB)\n",
    "Accuracy_GB = (TP_GB + TN_GB)/(TP_GB + FP_GB + TN_GB + FN_GB)\n",
    "Recall_GB = TP_GB/(TP_GB + FN_GB)\n",
    "Precision_GB = TP_GB/(TP_GB + FP_GB)\n",
    "\n",
    "print(\"Model GB: {m:s} Accuracy={s:3.2f}\\n\".format(m=name_GB, s=Accuracy_GB))\n",
    "print(\"Model GB: {m:s} Recall={s:3.2f}\\n\".format(m=name_GB, s=Recall_GB))\n",
    "print(\"Model GB: {m:s} Precision={s:3.2f}\\n\".format(m=name_GB, s=Precision_GB))"
   ]
  },
  {
   "cell_type": "code",
   "execution_count": 28,
   "metadata": {},
   "outputs": [
    {
     "name": "stderr",
     "output_type": "stream",
     "text": [
      "/Users/wuqian/opt/anaconda3/lib/python3.7/site-packages/sklearn/linear_model/_stochastic_gradient.py:557: ConvergenceWarning: Maximum number of iteration reached before convergence. Consider increasing max_iter to improve the fit.\n",
      "  ConvergenceWarning)\n"
     ]
    },
    {
     "data": {
      "text/plain": [
       "Pipeline(memory=None,\n",
       "         steps=[('Scaler',\n",
       "                 StandardScaler(copy=True, with_mean=True, with_std=True)),\n",
       "                ('Ensemble',\n",
       "                 VotingClassifier(estimators=[('Logistic Regression',\n",
       "                                               LogisticRegression(C=1.0,\n",
       "                                                                  class_weight=None,\n",
       "                                                                  dual=False,\n",
       "                                                                  fit_intercept=True,\n",
       "                                                                  intercept_scaling=1,\n",
       "                                                                  l1_ratio=None,\n",
       "                                                                  max_iter=100,\n",
       "                                                                  multi_class='auto',\n",
       "                                                                  n_jobs=None,\n",
       "                                                                  penalty='l2',\n",
       "                                                                  random_state=None,\n",
       "                                                                  solver='lib...\n",
       "                                                                          min_impurity_decrease=0.0,\n",
       "                                                                          min_impurity_split=None,\n",
       "                                                                          min_samples_leaf=1,\n",
       "                                                                          min_samples_split=2,\n",
       "                                                                          min_weight_fraction_leaf=0.0,\n",
       "                                                                          n_estimators=100,\n",
       "                                                                          n_iter_no_change=None,\n",
       "                                                                          presort='deprecated',\n",
       "                                                                          random_state=0,\n",
       "                                                                          subsample=1.0,\n",
       "                                                                          tol=0.0001,\n",
       "                                                                          validation_fraction=0.1,\n",
       "                                                                          verbose=0,\n",
       "                                                                          warm_start=False))],\n",
       "                                  flatten_transform=True, n_jobs=None,\n",
       "                                  voting='hard', weights=None))],\n",
       "         verbose=False)"
      ]
     },
     "execution_count": 28,
     "metadata": {},
     "output_type": "execute_result"
    },
    {
     "name": "stdout",
     "output_type": "stream",
     "text": [
      "Model Ensemble: Ensemble in sample score=0.94\n",
      "\n"
     ]
    },
    {
     "name": "stderr",
     "output_type": "stream",
     "text": [
      "/Users/wuqian/opt/anaconda3/lib/python3.7/site-packages/sklearn/linear_model/_stochastic_gradient.py:557: ConvergenceWarning: Maximum number of iteration reached before convergence. Consider increasing max_iter to improve the fit.\n",
      "  ConvergenceWarning)\n",
      "/Users/wuqian/opt/anaconda3/lib/python3.7/site-packages/sklearn/linear_model/_stochastic_gradient.py:557: ConvergenceWarning: Maximum number of iteration reached before convergence. Consider increasing max_iter to improve the fit.\n",
      "  ConvergenceWarning)\n",
      "/Users/wuqian/opt/anaconda3/lib/python3.7/site-packages/sklearn/linear_model/_stochastic_gradient.py:557: ConvergenceWarning: Maximum number of iteration reached before convergence. Consider increasing max_iter to improve the fit.\n",
      "  ConvergenceWarning)\n",
      "/Users/wuqian/opt/anaconda3/lib/python3.7/site-packages/sklearn/linear_model/_stochastic_gradient.py:557: ConvergenceWarning: Maximum number of iteration reached before convergence. Consider increasing max_iter to improve the fit.\n",
      "  ConvergenceWarning)\n",
      "/Users/wuqian/opt/anaconda3/lib/python3.7/site-packages/sklearn/linear_model/_stochastic_gradient.py:557: ConvergenceWarning: Maximum number of iteration reached before convergence. Consider increasing max_iter to improve the fit.\n",
      "  ConvergenceWarning)\n"
     ]
    },
    {
     "name": "stdout",
     "output_type": "stream",
     "text": [
      "Model Ensemble: Ensemble avg cross validation score=0.94\n",
      "\n",
      "Model Ensemble: Ensemble out-of-sample score=0.94\n",
      "\n"
     ]
    },
    {
     "data": {
      "text/plain": [
       "<matplotlib.axes._subplots.AxesSubplot at 0x7f8d5fed7850>"
      ]
     },
     "execution_count": 28,
     "metadata": {},
     "output_type": "execute_result"
    },
    {
     "data": {
      "image/png": "[encoded data removed]",
      "text/plain": [
       "<Figure size 432x288 with 1 Axes>"
      ]
     },
     "metadata": {
      "needs_background": "light"
     },
     "output_type": "display_data"
    },
    {
     "name": "stdout",
     "output_type": "stream",
     "text": [
      "Model Ensemble: Ensemble Accuracy=0.94\n",
      "\n",
      "Model Ensemble: Ensemble Recall=0.06\n",
      "\n",
      "Model Ensemble: Ensemble Precision=1.00\n",
      "\n"
     ]
    }
   ],
   "source": [
    "# 8. Ensembles\n",
    "# Ensemble the previous models together, except Naive Bayes\n",
    "\n",
    "from sklearn.ensemble import VotingClassifier\n",
    "\n",
    "clf_Ensemble = VotingClassifier(estimators=[('Logistic Regression', clf_LR), \n",
    "                                            ('Support Vector Classifier', clf_SVC), \n",
    "                                            ('Random Forest Classifier', clf_RF),\n",
    "                                            ('Decision Trees Classifier', clf_DT),\n",
    "                                            ('Gradient Descent', clf_SGD), \n",
    "                                            ('Gradient Boosting', clf_GB)],\n",
    "                                voting='hard')\n",
    "name_Ensemble = 'Ensemble'\n",
    "model_pipeline_Ensemble = Pipeline(steps = [('Scaler', scaler), (name_Ensemble, clf_Ensemble)])\n",
    "\n",
    "\n",
    "# Train the model using accuracy score\n",
    "\n",
    "model_pipeline_Ensemble.fit(X_train, y_train)\n",
    "score_in_sample_Ensemble = accuracy_score(y_train, model_pipeline_Ensemble.predict(X_train))\n",
    "\n",
    "print(\"Model Ensemble: {m:s} in sample score={s:3.2f}\\n\".format(m=name_Ensemble, s=score_in_sample_Ensemble))\n",
    "\n",
    "\n",
    "# Train the model using cross validation\n",
    "cross_val_scores_Ensemble = None\n",
    "k = 5\n",
    "\n",
    "t0 = time.time()\n",
    "\n",
    "cross_val_scores_Ensemble = cross_val_score(model_pipeline_Ensemble, X_train, y_train, cv = k)\n",
    "\n",
    "print(\"Model Ensemble: {m:s} avg cross validation score={s:3.2f}\\n\".format(m=name_Ensemble, \n",
    "                                                                           s=cross_val_scores_Ensemble.mean()) )\n",
    "\n",
    "\n",
    "# Compute the out-of-sample score\n",
    "\n",
    "score_out_of_sample_Ensembel = None\n",
    "\n",
    "score_out_of_sample_Ensemble = accuracy_score(y_test, model_pipeline_Ensemble.predict(X_test))\n",
    "\n",
    "print(\"Model Ensemble: {m:s} out-of-sample score={s:3.2f}\\n\".format(m=name_Ensemble, \n",
    "                                                                    s=score_out_of_sample_Ensemble))\n",
    "\n",
    "\n",
    "# ERROR ANALYSIS\n",
    "# Confusion Matrix\n",
    "\n",
    "from sklearn.metrics import confusion_matrix\n",
    "import seaborn as sn\n",
    "import matplotlib.pyplot as plt\n",
    "\n",
    "y_test_predict_Ensemble = model_pipeline_Ensemble.predict(X_test)\n",
    "confusion_mat_Ensemble = confusion_matrix(y_test, y_test_predict_Ensemble)\n",
    "\n",
    "sn.heatmap(confusion_mat_Ensemble, square=True, annot=True, fmt='d',cbar=False, xticklabels=np.unique(y),\n",
    "           yticklabels=np.unique(y))\n",
    "\n",
    "plt.show()\n",
    "\n",
    "[[TN_Ensemble, FP_Ensemble], [FN_Ensemble, TP_Ensemble]] = confusion_matrix(y_test, y_test_predict_Ensemble)\n",
    "Accuracy_Ensemble = (TP_Ensemble + TN_Ensemble)/(TP_Ensemble + FP_Ensemble + TN_Ensemble + FN_Ensemble)\n",
    "Recall_Ensemble = TP_Ensemble/(TP_Ensemble + FN_Ensemble)\n",
    "Precision_Ensemble = TP_Ensemble/(TP_Ensemble + FP_Ensemble)\n",
    "\n",
    "print(\"Model Ensemble: {m:s} Accuracy={s:3.2f}\\n\".format(m=name_Ensemble, s=Accuracy_Ensemble))\n",
    "print(\"Model Ensemble: {m:s} Recall={s:3.2f}\\n\".format(m=name_Ensemble, s=Recall_Ensemble))\n",
    "print(\"Model Ensemble: {m:s} Precision={s:3.2f}\\n\".format(m=name_Ensemble, s=Precision_Ensemble))"
   ]
  },
  {
   "cell_type": "markdown",
   "metadata": {},
   "source": [
    "## Submission guidelines\n",
    "\n",
    "Although your notebook may contain many models (e.g., due to your iterative development)\n",
    "we will only evaluate a single model.\n",
    "So choose one (explain why !) and do the following.\n",
    "\n",
    "- You will implement the body of a subroutine `MyModel`\n",
    "    - That takes as argument a Pandas DataFrame \n",
    "        - Each row is an example on which to predict\n",
    "        - The features of the example are elements of the row\n",
    "    - Performs predictions on each example\n",
    "    - Returns an array or predictions with a one-to-one correspondence with the examples in the test set\n",
    "    "
   ]
  },
  {
   "cell_type": "markdown",
   "metadata": {},
   "source": [
    "We will evaluate your model against the holdout data\n",
    "- By reading the holdout examples `X_hold` (as above)\n",
    "- Calling `y_hold_pred = MyModel(X_hold)` to get the predictions\n",
    "- Comparing the predicted values `y_hold_pred` against the true labels `y_hold` which are known only to the instructors\n",
    "\n",
    "See the following cell as an illustration"
   ]
  },
  {
   "cell_type": "raw",
   "metadata": {},
   "source": [
    "# Give the model a name (will appear in the print statement)\n",
    "name = \"This is the name I've given to my model\"\n",
    "\n",
    "X_hold = pd.read_csv( os.path.join(DATA_DIR, \"holdout\", '5th_yr.csv') )\n",
    "\n",
    "# Predict using MyModel\n",
    "y_hold_pred = MyModel(X_hold)\n",
    "\n",
    "# Compute metrics\n",
    "# accuracy\n",
    "accuracy_hold = accuracy_score(y_hold, y_hold_pred)\n",
    "\n",
    "# recall_\n",
    "recall_hold = recall_score(y_hold, y_hold_pred, pos_label=1, average=\"binary\")\n",
    "\n",
    "# precision\n",
    "precision_hold = precision_score(y_hold,   y_hold_pred, pos_label=1, average=\"binary\")\n",
    "\n",
    "\n",
    "print(\"\\t{m:s} Accuracy: {a:3.1%}, Recall {r:3.1%}, Precision {p:3.1%}\".format(m=name,\n",
    "                                                                            a=accuracy_hold,\n",
    "                                                                            r=recall_hold,\n",
    "                                                                            p=precision_hold\n",
    "                                                                            )\n",
    "         )"
   ]
  },
  {
   "cell_type": "markdown",
   "metadata": {},
   "source": [
    "**Remember**\n",
    "\n",
    "The holdout data is in the same format as the one we used for training\n",
    "- Except that it has no attribute for the target\n",
    "- So you will need to perform all the transformations on the holdout data\n",
    "    - As you did on the training data\n",
    "    - Including turning the string representation of numbers into actual numeric data types\n",
    "\n",
    "All of this work *must* be performed within the body of the `MyModel` routine you will write\n",
    "\n",
    "We will grade you by comparing the predictions array you create to the answers known to us."
   ]
  },
  {
   "cell_type": "code",
   "execution_count": 32,
   "metadata": {},
   "outputs": [],
   "source": [
    "\n",
    "import pandas as pd\n",
    "import os\n",
    "\n",
    "def MyModel(X):\n",
    "    # It should create an array of predictions; we initialize it to the empty array for convenience\n",
    "    predictions = []\n",
    "    \n",
    "    X_num = X.apply(pd.to_numeric, errors = 'coerce')\n",
    "    \n",
    "    NaN_mean = SimpleImputer(missing_values=np.nan, strategy='mean')\n",
    "    \n",
    "    clf_LR = LogisticRegression(solver = 'liblinear')\n",
    "    clf_SVC = SVC(gamma='auto')\n",
    "    clf_RF = RandomForestClassifier(max_depth = 5, random_state = 0)\n",
    "    clf_DT = tree.DecisionTreeClassifier()\n",
    "    \n",
    "    Final_Model = VotingClassifier(estimators=[('Logistic Regression', clf_LR), \n",
    "                                               ('Support Vector Classifier', clf_SVC), \n",
    "                                               ('Random Forest Classifier', clf_RF),\n",
    "                                               ('Decision Trees Classifier', clf_DT),],\n",
    "                                voting='hard')\n",
    "    name_final = 'Final Model'\n",
    "    model_pipeline_Final = Pipeline(steps = [('imputer', NaN_mean), (name_final, Final_Model)])\n",
    "    model_pipeline_Final.fit(X_train, y_train)\n",
    "    \n",
    "    predictions = model_pipeline_Ensemble.predict(X_num)\n",
    "    \n",
    "    return predictions"
   ]
  },
  {
   "cell_type": "markdown",
   "metadata": {},
   "source": [
    "# Check your work: predict and evaluate metrics on *your* test examples\n",
    "\n",
    "Although only the instructors have the correct labels for the holdout dataset, you may want\n",
    "to create your own test dataset on which to evaluate your out of sample metrics.\n",
    "\n",
    "If you choose to do so, you can evaluate your models using the same metrics that the instructors will use.\n",
    "\n",
    "- Test whether your implementation of `MyModel` works\n",
    "- See the metrics  your model produces\n",
    "\n",
    "The following cell\n",
    "- Assumes that you have created `X_test, y_test` as your proxy for an out of sample dataset\n",
    "    - It serves the same function as `X_hold`, the holdout dataset, but you have the associated target (only the instructors have `y_hold`)"
   ]
  },
  {
   "cell_type": "code",
   "execution_count": 33,
   "metadata": {},
   "outputs": [
    {
     "name": "stderr",
     "output_type": "stream",
     "text": [
      "/Users/wuqian/opt/anaconda3/lib/python3.7/site-packages/sklearn/svm/_base.py:947: ConvergenceWarning: Liblinear failed to converge, increase the number of iterations.\n",
      "  \"the number of iterations.\", ConvergenceWarning)\n"
     ]
    },
    {
     "name": "stdout",
     "output_type": "stream",
     "text": [
      "\tFina Model Accuracy: 93.6%, Recall 6.1%, Precision 100.0%\n"
     ]
    }
   ],
   "source": [
    "from sklearn.metrics import precision_score\n",
    "from sklearn.metrics import recall_score\n",
    "\n",
    "# Give the model a name (will appear in the print statement)\n",
    "name = \"Fina Model\"\n",
    "\n",
    "y_test_pred = MyModel(X_test)\n",
    "\n",
    "accuracy_test = accuracy_score(y_test, y_test_pred)\n",
    "recall_test = recall_score(y_test, y_test_pred, pos_label=1, average=\"binary\")\n",
    "precision_test = precision_score(y_test,   y_test_pred, pos_label=1, average=\"binary\")\n",
    "\n",
    "print(\"\\t{m:s} Accuracy: {a:3.1%}, Recall {r:3.1%}, Precision {p:3.1%}\".format(m=name,\n",
    "                                                                            a=accuracy_test,\n",
    "                                                                            r=recall_test,\n",
    "                                                                            p=precision_test\n",
    "                                                                            )\n",
    "         )"
   ]
  },
  {
   "cell_type": "code",
   "execution_count": null,
   "metadata": {},
   "outputs": [],
   "source": []
  }
 ],
 "metadata": {
  "kernelspec": {
   "display_name": "Python 3",
   "language": "python",
   "name": "python3"
  },
  "language_info": {
   "codemirror_mode": {
    "name": "ipython",
    "version": 3
   },
   "file_extension": ".py",
   "mimetype": "text/x-python",
   "name": "python",
   "nbconvert_exporter": "python",
   "pygments_lexer": "ipython3",
   "version": "3.7.6"
  },
  "toc": {
   "base_numbering": 1,
   "nav_menu": {},
   "number_sections": true,
   "sideBar": true,
   "skip_h1_title": false,
   "title_cell": "Table of Contents",
   "title_sidebar": "Contents",
   "toc_cell": false,
   "toc_position": {
    "height": "calc(100% - 180px)",
    "left": "10px",
    "top": "150px",
    "width": "370.594px"
   },
   "toc_section_display": true,
   "toc_window_display": true
  }
 },
 "nbformat": 4,
 "nbformat_minor": 2
}
